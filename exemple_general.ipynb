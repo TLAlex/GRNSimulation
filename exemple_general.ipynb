{
 "cells": [
  {
   "cell_type": "code",
   "execution_count": 9,
   "metadata": {},
   "outputs": [],
   "source": [
    "import numpy as np\n",
    "import ochunGRN as oGRN\n",
    "def betterPrint(Dict):\n",
    "    for k, v in Dict.items():\n",
    "        if isinstance(v, dict):\n",
    "            print(f\"{k}:\")\n",
    "            betterPrint(v) \n",
    "        else :\n",
    "            print(f\"{k}: {v}\")"
   ]
  },
  {
   "cell_type": "code",
   "execution_count": 10,
   "metadata": {},
   "outputs": [
    {
     "name": "stdout",
     "output_type": "stream",
     "text": [
      "[(0, 2), (0, 3), (0, 4), (1, 2), (2, 1), (3, 4)]\n"
     ]
    }
   ],
   "source": [
    "GENESNB = 5\n",
    "test = oGRN.randomGrn(GENESNB, 0.2, 0.1)\n",
    "betterPrint(test)"
   ]
  }
 ],
 "metadata": {
  "kernelspec": {
   "display_name": "base",
   "language": "python",
   "name": "python3"
  },
  "language_info": {
   "codemirror_mode": {
    "name": "ipython",
    "version": 3
   },
   "file_extension": ".py",
   "mimetype": "text/x-python",
   "name": "python",
   "nbconvert_exporter": "python",
   "pygments_lexer": "ipython3",
   "version": "3.12.4"
  }
 },
 "nbformat": 4,
 "nbformat_minor": 2
}
